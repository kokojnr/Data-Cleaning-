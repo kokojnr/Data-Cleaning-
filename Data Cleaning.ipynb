{
 "cells": [
  {
   "cell_type": "code",
   "execution_count": 1,
   "id": "478c9292",
   "metadata": {},
   "outputs": [],
   "source": [
    "import pandas as pd\n",
    "import numpy as np"
   ]
  },
  {
   "cell_type": "code",
   "execution_count": 2,
   "id": "60b6fa53",
   "metadata": {},
   "outputs": [],
   "source": [
    "df = pd.read_csv('messy_data.csv')"
   ]
  },
  {
   "cell_type": "code",
   "execution_count": 3,
   "id": "7232b7e8",
   "metadata": {},
   "outputs": [
    {
     "data": {
      "text/html": [
       "<div>\n",
       "<style scoped>\n",
       "    .dataframe tbody tr th:only-of-type {\n",
       "        vertical-align: middle;\n",
       "    }\n",
       "\n",
       "    .dataframe tbody tr th {\n",
       "        vertical-align: top;\n",
       "    }\n",
       "\n",
       "    .dataframe thead th {\n",
       "        text-align: right;\n",
       "    }\n",
       "</style>\n",
       "<table border=\"1\" class=\"dataframe\">\n",
       "  <thead>\n",
       "    <tr style=\"text-align: right;\">\n",
       "      <th></th>\n",
       "      <th>TrnsnID</th>\n",
       "      <th>Data</th>\n",
       "      <th>CusmrID</th>\n",
       "      <th>ProdtID</th>\n",
       "      <th>ProdtName</th>\n",
       "      <th>Qutity</th>\n",
       "      <th>Prize</th>\n",
       "      <th>TtlSales</th>\n",
       "      <th>PaymentType</th>\n",
       "      <th>CusterAge</th>\n",
       "    </tr>\n",
       "  </thead>\n",
       "  <tbody>\n",
       "    <tr>\n",
       "      <th>0</th>\n",
       "      <td>7402</td>\n",
       "      <td>03/17/2026</td>\n",
       "      <td>991</td>\n",
       "      <td>1045</td>\n",
       "      <td>Boo E</td>\n",
       "      <td>9</td>\n",
       "      <td>167.72</td>\n",
       "      <td>2935.06</td>\n",
       "      <td>NaN</td>\n",
       "      <td>87</td>\n",
       "    </tr>\n",
       "    <tr>\n",
       "      <th>1</th>\n",
       "      <td>5835</td>\n",
       "      <td>26-01-2035</td>\n",
       "      <td>741</td>\n",
       "      <td>1040</td>\n",
       "      <td>Book J</td>\n",
       "      <td>18</td>\n",
       "      <td>193.27</td>\n",
       "      <td>4386.52</td>\n",
       "      <td>debit card</td>\n",
       "      <td>69</td>\n",
       "    </tr>\n",
       "    <tr>\n",
       "      <th>2</th>\n",
       "      <td>2123</td>\n",
       "      <td>05/26/2035</td>\n",
       "      <td>933</td>\n",
       "      <td>1062</td>\n",
       "      <td>Bok N</td>\n",
       "      <td>5</td>\n",
       "      <td>126.39</td>\n",
       "      <td>1948.46</td>\n",
       "      <td>Cash</td>\n",
       "      <td>15</td>\n",
       "    </tr>\n",
       "    <tr>\n",
       "      <th>3</th>\n",
       "      <td>8789</td>\n",
       "      <td>28-02-2036</td>\n",
       "      <td>641</td>\n",
       "      <td>1060</td>\n",
       "      <td>Book I</td>\n",
       "      <td>6</td>\n",
       "      <td>66.98</td>\n",
       "      <td>1757.26</td>\n",
       "      <td>Cash</td>\n",
       "      <td>22</td>\n",
       "    </tr>\n",
       "    <tr>\n",
       "      <th>4</th>\n",
       "      <td>305</td>\n",
       "      <td>19-04-2023</td>\n",
       "      <td>123</td>\n",
       "      <td>1058</td>\n",
       "      <td>Book B</td>\n",
       "      <td>15</td>\n",
       "      <td>33.63</td>\n",
       "      <td>2578.19</td>\n",
       "      <td>Cash</td>\n",
       "      <td>-1</td>\n",
       "    </tr>\n",
       "  </tbody>\n",
       "</table>\n",
       "</div>"
      ],
      "text/plain": [
       "   TrnsnID        Data  CusmrID  ProdtID ProdtName  Qutity   Prize  TtlSales  \\\n",
       "0     7402  03/17/2026      991     1045     Boo E       9  167.72   2935.06   \n",
       "1     5835  26-01-2035      741     1040    Book J      18  193.27   4386.52   \n",
       "2     2123  05/26/2035      933     1062     Bok N       5  126.39   1948.46   \n",
       "3     8789  28-02-2036      641     1060    Book I       6   66.98   1757.26   \n",
       "4      305  19-04-2023      123     1058    Book B      15   33.63   2578.19   \n",
       "\n",
       "  PaymentType  CusterAge  \n",
       "0         NaN         87  \n",
       "1  debit card         69  \n",
       "2        Cash         15  \n",
       "3        Cash         22  \n",
       "4        Cash         -1  "
      ]
     },
     "execution_count": 3,
     "metadata": {},
     "output_type": "execute_result"
    }
   ],
   "source": [
    "df.head()"
   ]
  },
  {
   "cell_type": "code",
   "execution_count": 4,
   "id": "e673bb9e",
   "metadata": {},
   "outputs": [
    {
     "name": "stdout",
     "output_type": "stream",
     "text": [
      "<class 'pandas.core.frame.DataFrame'>\n",
      "RangeIndex: 10100 entries, 0 to 10099\n",
      "Data columns (total 10 columns):\n",
      " #   Column       Non-Null Count  Dtype  \n",
      "---  ------       --------------  -----  \n",
      " 0   TrnsnID      10100 non-null  int64  \n",
      " 1   Data         10100 non-null  object \n",
      " 2   CusmrID      10100 non-null  int64  \n",
      " 3   ProdtID      10100 non-null  int64  \n",
      " 4   ProdtName    9098 non-null   object \n",
      " 5   Qutity       10100 non-null  int64  \n",
      " 6   Prize        10100 non-null  float64\n",
      " 7   TtlSales     10100 non-null  float64\n",
      " 8   PaymentType  8645 non-null   object \n",
      " 9   CusterAge    10100 non-null  int64  \n",
      "dtypes: float64(2), int64(5), object(3)\n",
      "memory usage: 789.2+ KB\n"
     ]
    }
   ],
   "source": [
    "df.info()"
   ]
  },
  {
   "cell_type": "code",
   "execution_count": 5,
   "id": "dd2adcc8",
   "metadata": {},
   "outputs": [
    {
     "data": {
      "text/plain": [
       "TrnsnID           0\n",
       "Data              0\n",
       "CusmrID           0\n",
       "ProdtID           0\n",
       "ProdtName      1002\n",
       "Qutity            0\n",
       "Prize             0\n",
       "TtlSales          0\n",
       "PaymentType    1455\n",
       "CusterAge         0\n",
       "dtype: int64"
      ]
     },
     "execution_count": 5,
     "metadata": {},
     "output_type": "execute_result"
    }
   ],
   "source": [
    "df.isnull().sum()"
   ]
  },
  {
   "cell_type": "code",
   "execution_count": 6,
   "id": "46e2cadf",
   "metadata": {},
   "outputs": [
    {
     "name": "stdout",
     "output_type": "stream",
     "text": [
      "<class 'pandas.core.frame.DataFrame'>\n",
      "RangeIndex: 10100 entries, 0 to 10099\n",
      "Data columns (total 10 columns):\n",
      " #   Column       Non-Null Count  Dtype  \n",
      "---  ------       --------------  -----  \n",
      " 0   TrnsnID      10100 non-null  int64  \n",
      " 1   Data         10100 non-null  object \n",
      " 2   CusmrID      10100 non-null  int64  \n",
      " 3   ProdtID      10100 non-null  int64  \n",
      " 4   ProdtName    9098 non-null   object \n",
      " 5   Qutity       10100 non-null  int64  \n",
      " 6   Prize        10100 non-null  float64\n",
      " 7   TtlSales     10100 non-null  float64\n",
      " 8   PaymentType  8645 non-null   object \n",
      " 9   CusterAge    10100 non-null  int64  \n",
      "dtypes: float64(2), int64(5), object(3)\n",
      "memory usage: 789.2+ KB\n"
     ]
    }
   ],
   "source": [
    "df.info()"
   ]
  },
  {
   "cell_type": "markdown",
   "id": "5ac938b7",
   "metadata": {},
   "source": [
    "Renaming columns "
   ]
  },
  {
   "cell_type": "code",
   "execution_count": 7,
   "id": "d1ce8f29",
   "metadata": {},
   "outputs": [],
   "source": [
    "df.rename(columns={'TrnsnID': 'Transaction_ID'}, inplace=True)"
   ]
  },
  {
   "cell_type": "code",
   "execution_count": 8,
   "id": "5610aafd",
   "metadata": {},
   "outputs": [],
   "source": [
    "df.rename(columns={'CusmrID': 'Customer_ID'}, inplace=True)"
   ]
  },
  {
   "cell_type": "code",
   "execution_count": 9,
   "id": "425ebf13",
   "metadata": {},
   "outputs": [],
   "source": [
    "df.rename(columns={'ProdtID': 'Product_ID'}, inplace=True)"
   ]
  },
  {
   "cell_type": "code",
   "execution_count": 10,
   "id": "b4ce400e",
   "metadata": {},
   "outputs": [],
   "source": [
    "df.rename(columns={'Qutity': 'Quantity'}, inplace=True)"
   ]
  },
  {
   "cell_type": "code",
   "execution_count": 11,
   "id": "0fdea219",
   "metadata": {},
   "outputs": [],
   "source": [
    "df.rename(columns={'Prize': 'Price'}, inplace=True)"
   ]
  },
  {
   "cell_type": "code",
   "execution_count": 12,
   "id": "1088357d",
   "metadata": {},
   "outputs": [],
   "source": [
    "df.rename(columns={'TtlSales': 'Total_Sales'}, inplace=True)"
   ]
  },
  {
   "cell_type": "code",
   "execution_count": 13,
   "id": "75260c20",
   "metadata": {},
   "outputs": [],
   "source": [
    "df.rename(columns={'CusterAge': 'Customer_Age'}, inplace=True)"
   ]
  },
  {
   "cell_type": "code",
   "execution_count": 14,
   "id": "effcc604",
   "metadata": {},
   "outputs": [],
   "source": [
    "df.rename(columns={'Data': 'Date'}, inplace=True)"
   ]
  },
  {
   "cell_type": "code",
   "execution_count": 15,
   "id": "f795140c",
   "metadata": {},
   "outputs": [],
   "source": [
    "df.rename(columns={'ProdtID': 'Product_ID'}, inplace=True)"
   ]
  },
  {
   "cell_type": "code",
   "execution_count": 16,
   "id": "dc36e916",
   "metadata": {},
   "outputs": [],
   "source": [
    "df.rename(columns={'ProdtName': 'Product_Name'}, inplace=True)"
   ]
  },
  {
   "cell_type": "code",
   "execution_count": 17,
   "id": "eba5bcc3",
   "metadata": {},
   "outputs": [],
   "source": [
    "df.rename(columns={'PaymentType': 'Payment_Method'}, inplace=True)"
   ]
  },
  {
   "cell_type": "code",
   "execution_count": 18,
   "id": "8e74867a",
   "metadata": {},
   "outputs": [
    {
     "data": {
      "text/html": [
       "<div>\n",
       "<style scoped>\n",
       "    .dataframe tbody tr th:only-of-type {\n",
       "        vertical-align: middle;\n",
       "    }\n",
       "\n",
       "    .dataframe tbody tr th {\n",
       "        vertical-align: top;\n",
       "    }\n",
       "\n",
       "    .dataframe thead th {\n",
       "        text-align: right;\n",
       "    }\n",
       "</style>\n",
       "<table border=\"1\" class=\"dataframe\">\n",
       "  <thead>\n",
       "    <tr style=\"text-align: right;\">\n",
       "      <th></th>\n",
       "      <th>Transaction_ID</th>\n",
       "      <th>Date</th>\n",
       "      <th>Customer_ID</th>\n",
       "      <th>Product_ID</th>\n",
       "      <th>Product_Name</th>\n",
       "      <th>Quantity</th>\n",
       "      <th>Price</th>\n",
       "      <th>Total_Sales</th>\n",
       "      <th>Payment_Method</th>\n",
       "      <th>Customer_Age</th>\n",
       "    </tr>\n",
       "  </thead>\n",
       "  <tbody>\n",
       "    <tr>\n",
       "      <th>667</th>\n",
       "      <td>796</td>\n",
       "      <td>20-08-2032</td>\n",
       "      <td>561</td>\n",
       "      <td>1080</td>\n",
       "      <td>Book O</td>\n",
       "      <td>17</td>\n",
       "      <td>25.83</td>\n",
       "      <td>2321.70</td>\n",
       "      <td>Debit</td>\n",
       "      <td>93</td>\n",
       "    </tr>\n",
       "    <tr>\n",
       "      <th>4523</th>\n",
       "      <td>480</td>\n",
       "      <td>08/22/2026</td>\n",
       "      <td>581</td>\n",
       "      <td>1056</td>\n",
       "      <td>Bok N</td>\n",
       "      <td>5</td>\n",
       "      <td>119.83</td>\n",
       "      <td>593.73</td>\n",
       "      <td>Credit</td>\n",
       "      <td>85</td>\n",
       "    </tr>\n",
       "    <tr>\n",
       "      <th>121</th>\n",
       "      <td>4906</td>\n",
       "      <td>07/06/2024</td>\n",
       "      <td>735</td>\n",
       "      <td>1056</td>\n",
       "      <td>Boo E</td>\n",
       "      <td>4</td>\n",
       "      <td>198.79</td>\n",
       "      <td>4332.32</td>\n",
       "      <td>Credit Card</td>\n",
       "      <td>63</td>\n",
       "    </tr>\n",
       "    <tr>\n",
       "      <th>5829</th>\n",
       "      <td>5529</td>\n",
       "      <td>19-08-2024</td>\n",
       "      <td>306</td>\n",
       "      <td>1013</td>\n",
       "      <td>Book T</td>\n",
       "      <td>14</td>\n",
       "      <td>19.48</td>\n",
       "      <td>2508.31</td>\n",
       "      <td>Credit</td>\n",
       "      <td>82</td>\n",
       "    </tr>\n",
       "    <tr>\n",
       "      <th>7415</th>\n",
       "      <td>924</td>\n",
       "      <td>04/07/2032</td>\n",
       "      <td>814</td>\n",
       "      <td>1004</td>\n",
       "      <td>Book D</td>\n",
       "      <td>17</td>\n",
       "      <td>173.16</td>\n",
       "      <td>355.19</td>\n",
       "      <td>NaN</td>\n",
       "      <td>64</td>\n",
       "    </tr>\n",
       "  </tbody>\n",
       "</table>\n",
       "</div>"
      ],
      "text/plain": [
       "      Transaction_ID        Date  Customer_ID  Product_ID Product_Name  \\\n",
       "667              796  20-08-2032          561        1080       Book O   \n",
       "4523             480  08/22/2026          581        1056        Bok N   \n",
       "121             4906  07/06/2024          735        1056        Boo E   \n",
       "5829            5529  19-08-2024          306        1013       Book T   \n",
       "7415             924  04/07/2032          814        1004       Book D   \n",
       "\n",
       "      Quantity   Price  Total_Sales Payment_Method  Customer_Age  \n",
       "667         17   25.83      2321.70          Debit            93  \n",
       "4523         5  119.83       593.73         Credit            85  \n",
       "121          4  198.79      4332.32    Credit Card            63  \n",
       "5829        14   19.48      2508.31         Credit            82  \n",
       "7415        17  173.16       355.19            NaN            64  "
      ]
     },
     "execution_count": 18,
     "metadata": {},
     "output_type": "execute_result"
    }
   ],
   "source": [
    "df.sample(5)"
   ]
  },
  {
   "cell_type": "code",
   "execution_count": 19,
   "id": "bdaf2ce8",
   "metadata": {},
   "outputs": [
    {
     "data": {
      "text/plain": [
       "Transaction_ID       0\n",
       "Date                 0\n",
       "Customer_ID          0\n",
       "Product_ID           0\n",
       "Product_Name      1002\n",
       "Quantity             0\n",
       "Price                0\n",
       "Total_Sales          0\n",
       "Payment_Method    1455\n",
       "Customer_Age         0\n",
       "dtype: int64"
      ]
     },
     "execution_count": 19,
     "metadata": {},
     "output_type": "execute_result"
    }
   ],
   "source": [
    "df.isnull().sum()"
   ]
  },
  {
   "cell_type": "markdown",
   "id": "1b93a44c",
   "metadata": {},
   "source": [
    "filling missing values with previous value"
   ]
  },
  {
   "cell_type": "code",
   "execution_count": 20,
   "id": "f209da77",
   "metadata": {},
   "outputs": [],
   "source": [
    "df = df.fillna(method='bfill')"
   ]
  },
  {
   "cell_type": "markdown",
   "id": "64aa5e4c",
   "metadata": {},
   "source": [
    "Converted Date column to appropraite data type"
   ]
  },
  {
   "cell_type": "code",
   "execution_count": 21,
   "id": "0714261f",
   "metadata": {},
   "outputs": [],
   "source": [
    "df['Date'] = pd.to_datetime(df['Date'], format='mixed')"
   ]
  },
  {
   "cell_type": "code",
   "execution_count": 22,
   "id": "e9887244",
   "metadata": {},
   "outputs": [
    {
     "name": "stdout",
     "output_type": "stream",
     "text": [
      "<class 'pandas.core.frame.DataFrame'>\n",
      "RangeIndex: 10100 entries, 0 to 10099\n",
      "Data columns (total 10 columns):\n",
      " #   Column          Non-Null Count  Dtype         \n",
      "---  ------          --------------  -----         \n",
      " 0   Transaction_ID  10100 non-null  int64         \n",
      " 1   Date            10100 non-null  datetime64[ns]\n",
      " 2   Customer_ID     10100 non-null  int64         \n",
      " 3   Product_ID      10100 non-null  int64         \n",
      " 4   Product_Name    10100 non-null  object        \n",
      " 5   Quantity        10100 non-null  int64         \n",
      " 6   Price           10100 non-null  float64       \n",
      " 7   Total_Sales     10100 non-null  float64       \n",
      " 8   Payment_Method  10100 non-null  object        \n",
      " 9   Customer_Age    10100 non-null  int64         \n",
      "dtypes: datetime64[ns](1), float64(2), int64(5), object(2)\n",
      "memory usage: 789.2+ KB\n"
     ]
    }
   ],
   "source": [
    "df.info()"
   ]
  },
  {
   "cell_type": "markdown",
   "id": "236b3a8c",
   "metadata": {},
   "source": [
    "Handled negative values using absolute method\n"
   ]
  },
  {
   "cell_type": "code",
   "execution_count": 23,
   "id": "9e11dc12",
   "metadata": {},
   "outputs": [],
   "source": [
    "df['Customer_Age'] = df['Customer_Age'].abs()\n",
    "df['Quantity'] = df['Quantity'].abs()\n",
    "    "
   ]
  },
  {
   "cell_type": "markdown",
   "id": "3d4497c4",
   "metadata": {},
   "source": [
    "Recalculated total sales with product of sales and quantity\n"
   ]
  },
  {
   "cell_type": "code",
   "execution_count": 24,
   "id": "55ba5c51",
   "metadata": {},
   "outputs": [],
   "source": [
    "df['Total_Sales'] = df['Quantity'] * df['Price']"
   ]
  },
  {
   "cell_type": "code",
   "execution_count": 25,
   "id": "9e412ee1",
   "metadata": {},
   "outputs": [
    {
     "data": {
      "text/html": [
       "<div>\n",
       "<style scoped>\n",
       "    .dataframe tbody tr th:only-of-type {\n",
       "        vertical-align: middle;\n",
       "    }\n",
       "\n",
       "    .dataframe tbody tr th {\n",
       "        vertical-align: top;\n",
       "    }\n",
       "\n",
       "    .dataframe thead th {\n",
       "        text-align: right;\n",
       "    }\n",
       "</style>\n",
       "<table border=\"1\" class=\"dataframe\">\n",
       "  <thead>\n",
       "    <tr style=\"text-align: right;\">\n",
       "      <th></th>\n",
       "      <th>Transaction_ID</th>\n",
       "      <th>Date</th>\n",
       "      <th>Customer_ID</th>\n",
       "      <th>Product_ID</th>\n",
       "      <th>Product_Name</th>\n",
       "      <th>Quantity</th>\n",
       "      <th>Price</th>\n",
       "      <th>Total_Sales</th>\n",
       "      <th>Payment_Method</th>\n",
       "      <th>Customer_Age</th>\n",
       "    </tr>\n",
       "  </thead>\n",
       "  <tbody>\n",
       "    <tr>\n",
       "      <th>0</th>\n",
       "      <td>7402</td>\n",
       "      <td>2026-03-17</td>\n",
       "      <td>991</td>\n",
       "      <td>1045</td>\n",
       "      <td>Boo E</td>\n",
       "      <td>9</td>\n",
       "      <td>167.72</td>\n",
       "      <td>1509.48</td>\n",
       "      <td>debit card</td>\n",
       "      <td>87</td>\n",
       "    </tr>\n",
       "    <tr>\n",
       "      <th>1</th>\n",
       "      <td>5835</td>\n",
       "      <td>2035-01-26</td>\n",
       "      <td>741</td>\n",
       "      <td>1040</td>\n",
       "      <td>Book J</td>\n",
       "      <td>18</td>\n",
       "      <td>193.27</td>\n",
       "      <td>3478.86</td>\n",
       "      <td>debit card</td>\n",
       "      <td>69</td>\n",
       "    </tr>\n",
       "    <tr>\n",
       "      <th>2</th>\n",
       "      <td>2123</td>\n",
       "      <td>2035-05-26</td>\n",
       "      <td>933</td>\n",
       "      <td>1062</td>\n",
       "      <td>Bok N</td>\n",
       "      <td>5</td>\n",
       "      <td>126.39</td>\n",
       "      <td>631.95</td>\n",
       "      <td>Cash</td>\n",
       "      <td>15</td>\n",
       "    </tr>\n",
       "    <tr>\n",
       "      <th>3</th>\n",
       "      <td>8789</td>\n",
       "      <td>2036-02-28</td>\n",
       "      <td>641</td>\n",
       "      <td>1060</td>\n",
       "      <td>Book I</td>\n",
       "      <td>6</td>\n",
       "      <td>66.98</td>\n",
       "      <td>401.88</td>\n",
       "      <td>Cash</td>\n",
       "      <td>22</td>\n",
       "    </tr>\n",
       "    <tr>\n",
       "      <th>4</th>\n",
       "      <td>305</td>\n",
       "      <td>2023-04-19</td>\n",
       "      <td>123</td>\n",
       "      <td>1058</td>\n",
       "      <td>Book B</td>\n",
       "      <td>15</td>\n",
       "      <td>33.63</td>\n",
       "      <td>504.45</td>\n",
       "      <td>Cash</td>\n",
       "      <td>1</td>\n",
       "    </tr>\n",
       "  </tbody>\n",
       "</table>\n",
       "</div>"
      ],
      "text/plain": [
       "   Transaction_ID       Date  Customer_ID  Product_ID Product_Name  Quantity  \\\n",
       "0            7402 2026-03-17          991        1045        Boo E         9   \n",
       "1            5835 2035-01-26          741        1040       Book J        18   \n",
       "2            2123 2035-05-26          933        1062        Bok N         5   \n",
       "3            8789 2036-02-28          641        1060       Book I         6   \n",
       "4             305 2023-04-19          123        1058       Book B        15   \n",
       "\n",
       "    Price  Total_Sales Payment_Method  Customer_Age  \n",
       "0  167.72      1509.48     debit card            87  \n",
       "1  193.27      3478.86     debit card            69  \n",
       "2  126.39       631.95           Cash            15  \n",
       "3   66.98       401.88           Cash            22  \n",
       "4   33.63       504.45           Cash             1  "
      ]
     },
     "execution_count": 25,
     "metadata": {},
     "output_type": "execute_result"
    }
   ],
   "source": [
    "df.head()"
   ]
  },
  {
   "cell_type": "code",
   "execution_count": 26,
   "id": "21858ccd",
   "metadata": {
    "scrolled": true
   },
   "outputs": [
    {
     "data": {
      "text/plain": [
       "Transaction_ID    0\n",
       "Date              0\n",
       "Customer_ID       0\n",
       "Product_ID        0\n",
       "Product_Name      0\n",
       "Quantity          0\n",
       "Price             0\n",
       "Total_Sales       0\n",
       "Payment_Method    0\n",
       "Customer_Age      0\n",
       "dtype: int64"
      ]
     },
     "execution_count": 26,
     "metadata": {},
     "output_type": "execute_result"
    }
   ],
   "source": [
    "df.isnull().sum()"
   ]
  },
  {
   "cell_type": "markdown",
   "id": "2dba17bf",
   "metadata": {},
   "source": [
    "Removed duplicate values using customer id and product id as a subset since same customer can buy different items"
   ]
  },
  {
   "cell_type": "code",
   "execution_count": 27,
   "id": "c9b45ef0",
   "metadata": {},
   "outputs": [],
   "source": [
    "dff = df.drop_duplicates(subset=['Customer_ID', 'Product_ID'], keep='first')"
   ]
  },
  {
   "cell_type": "code",
   "execution_count": 28,
   "id": "c2f9d352",
   "metadata": {},
   "outputs": [
    {
     "name": "stdout",
     "output_type": "stream",
     "text": [
      "<class 'pandas.core.frame.DataFrame'>\n",
      "Index: 9481 entries, 0 to 10097\n",
      "Data columns (total 10 columns):\n",
      " #   Column          Non-Null Count  Dtype         \n",
      "---  ------          --------------  -----         \n",
      " 0   Transaction_ID  9481 non-null   int64         \n",
      " 1   Date            9481 non-null   datetime64[ns]\n",
      " 2   Customer_ID     9481 non-null   int64         \n",
      " 3   Product_ID      9481 non-null   int64         \n",
      " 4   Product_Name    9481 non-null   object        \n",
      " 5   Quantity        9481 non-null   int64         \n",
      " 6   Price           9481 non-null   float64       \n",
      " 7   Total_Sales     9481 non-null   float64       \n",
      " 8   Payment_Method  9481 non-null   object        \n",
      " 9   Customer_Age    9481 non-null   int64         \n",
      "dtypes: datetime64[ns](1), float64(2), int64(5), object(2)\n",
      "memory usage: 814.8+ KB\n"
     ]
    }
   ],
   "source": [
    "dff.info()"
   ]
  },
  {
   "cell_type": "code",
   "execution_count": null,
   "id": "1e544004",
   "metadata": {},
   "outputs": [],
   "source": []
  }
 ],
 "metadata": {
  "kernelspec": {
   "display_name": "Python 3 (ipykernel)",
   "language": "python",
   "name": "python3"
  },
  "language_info": {
   "codemirror_mode": {
    "name": "ipython",
    "version": 3
   },
   "file_extension": ".py",
   "mimetype": "text/x-python",
   "name": "python",
   "nbconvert_exporter": "python",
   "pygments_lexer": "ipython3",
   "version": "3.11.5"
  }
 },
 "nbformat": 4,
 "nbformat_minor": 5
}
